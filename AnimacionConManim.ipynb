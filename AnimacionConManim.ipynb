{
  "nbformat": 4,
  "nbformat_minor": 0,
  "metadata": {
    "colab": {
      "name": "AnimacionConManim.ipynb",
      "provenance": [],
      "private_outputs": true,
      "collapsed_sections": [],
      "toc_visible": true,
      "include_colab_link": true
    },
    "kernelspec": {
      "name": "python3",
      "display_name": "Python 3"
    }
  },
  "cells": [
    {
      "cell_type": "markdown",
      "metadata": {
        "id": "view-in-github",
        "colab_type": "text"
      },
      "source": [
        "<a href=\"https://colab.research.google.com/github/munkiok/learn_manim/blob/main/AnimacionConManim.ipynb\" target=\"_parent\"><img src=\"https://colab.research.google.com/assets/colab-badge.svg\" alt=\"Open In Colab\"/></a>"
      ]
    },
    {
      "cell_type": "markdown",
      "metadata": {
        "id": "B5IRkt7BYHU1"
      },
      "source": [
        "# Crear Animaciones usando Manim en Google Colab\n",
        "Tutorial de como instalar manim en un entorno de Colab, es necesario descargar las renderizaciones."
      ]
    },
    {
      "cell_type": "markdown",
      "metadata": {
        "id": "a_41XZkxQzBf"
      },
      "source": [
        "## Paso 1. Clonar repositorio de manim\n",
        "\n",
        "\n",
        "\n"
      ]
    },
    {
      "cell_type": "code",
      "metadata": {
        "id": "y5TOPBoFQvI1"
      },
      "source": [
        "!git clone https://github.com/3b1b/manim.git"
      ],
      "execution_count": null,
      "outputs": []
    },
    {
      "cell_type": "code",
      "metadata": {
        "id": "L6htmdplRZj2"
      },
      "source": [
        "# Cambiarse a la carpeta de manim\n",
        "%cd manim"
      ],
      "execution_count": null,
      "outputs": []
    },
    {
      "cell_type": "markdown",
      "metadata": {
        "id": "KG6lKephHYVL"
      },
      "source": [
        "## Paso 2. Instalar LaTeX (TeX live)"
      ]
    },
    {
      "cell_type": "code",
      "metadata": {
        "id": "NpNUhdQSG_wB"
      },
      "source": [
        "!sudo apt-get install texlive-full"
      ],
      "execution_count": null,
      "outputs": []
    },
    {
      "cell_type": "markdown",
      "metadata": {
        "id": "hSeA9X5lHgxg"
      },
      "source": [
        "## Paso 3. Usar python 3.7 en el entorno "
      ]
    },
    {
      "cell_type": "code",
      "metadata": {
        "id": "pnu_sllpIGJ6"
      },
      "source": [
        "!sudo apt-get install python3.7-minimal"
      ],
      "execution_count": null,
      "outputs": []
    },
    {
      "cell_type": "markdown",
      "metadata": {
        "id": "ieEHD0mEI050"
      },
      "source": [
        "## Paso 4. Verificar tener PIP instalado\n"
      ]
    },
    {
      "cell_type": "code",
      "metadata": {
        "id": "15_cKhmjI33W"
      },
      "source": [
        "# !python3 get-pip.py\n",
        "! mkdir pip\n",
        "! cd pip\n",
        "! curl https://bootstrap.pypa.io/get-pip.py -o get-pip.py\n",
        "! python3 get-pip.py"
      ],
      "execution_count": null,
      "outputs": []
    },
    {
      "cell_type": "markdown",
      "metadata": {
        "id": "2JQqSL1tP-mU"
      },
      "source": [
        "## Paso 5. Instalar ffmpeg"
      ]
    },
    {
      "cell_type": "code",
      "metadata": {
        "id": "UzFkcj8ZQBfz"
      },
      "source": [
        "!sudo apt-get install ffmpeg"
      ],
      "execution_count": null,
      "outputs": []
    },
    {
      "cell_type": "markdown",
      "metadata": {
        "id": "IkUNhJ9BQNvz"
      },
      "source": [
        "## Paso 6 Instalar SoX"
      ]
    },
    {
      "cell_type": "code",
      "metadata": {
        "id": "qMCXaSVKQSMX"
      },
      "source": [
        "!sudo apt-get install sox"
      ],
      "execution_count": null,
      "outputs": []
    },
    {
      "cell_type": "markdown",
      "metadata": {
        "id": "WaZMHDytQaDL"
      },
      "source": [
        "## Paso 7. Instalación de paqueterías previas para instalar pycairo:"
      ]
    },
    {
      "cell_type": "code",
      "metadata": {
        "id": "hDOTqewHQay0"
      },
      "source": [
        "!python3 -m pip install pyreadline\n",
        "!python3 -m pip install pydub"
      ],
      "execution_count": null,
      "outputs": []
    },
    {
      "cell_type": "code",
      "metadata": {
        "id": "2ym8MDLSR3LB"
      },
      "source": [
        "!sudo apt-get install libcairo2-dev libjpeg-dev libgif-dev python3-dev libffi-dev"
      ],
      "execution_count": null,
      "outputs": []
    },
    {
      "cell_type": "code",
      "metadata": {
        "id": "8DTkZo3gRImY"
      },
      "source": [
        "!pip install -r requirements.txt"
      ],
      "execution_count": null,
      "outputs": []
    },
    {
      "cell_type": "markdown",
      "metadata": {
        "id": "45nIB88-46PT"
      },
      "source": [
        "## Paso 8. Clone las escenas que desea utilizar dentro de la carpeta manim\n",
        "\n",
        "Dejamos un ejemplo de un programa de programacion lineal para renderizar."
      ]
    },
    {
      "cell_type": "code",
      "metadata": {
        "id": "-xyhbC8m5tLI"
      },
      "source": [
        "!git clone https://github.com/Macorreag/SimplexAnimation.git"
      ],
      "execution_count": null,
      "outputs": []
    },
    {
      "cell_type": "markdown",
      "metadata": {
        "id": "e4Hiwee0ho6L"
      },
      "source": [
        "## Paso 9. Renderize example "
      ]
    },
    {
      "cell_type": "code",
      "metadata": {
        "id": "RCnvAKQXSFuM"
      },
      "source": [
        "!python3 -m manim SimplexAnimation/LinealProblemMetodoG.py "
      ],
      "execution_count": null,
      "outputs": []
    }
  ]
}