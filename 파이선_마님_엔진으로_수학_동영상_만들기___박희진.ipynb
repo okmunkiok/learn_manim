{
  "nbformat": 4,
  "nbformat_minor": 0,
  "metadata": {
    "colab": {
      "name": "파이선 마님 엔진으로 수학 동영상 만들기 _ 박희진",
      "provenance": [],
      "authorship_tag": "ABX9TyNfMXRxAjCYzO4m+70pmc5P",
      "include_colab_link": true
    },
    "kernelspec": {
      "name": "python3",
      "display_name": "Python 3"
    },
    "language_info": {
      "name": "python"
    }
  },
  "cells": [
    {
      "cell_type": "markdown",
      "metadata": {
        "id": "view-in-github",
        "colab_type": "text"
      },
      "source": [
        "<a href=\"https://colab.research.google.com/github/munkiok/learn_manim/blob/main/%ED%8C%8C%EC%9D%B4%EC%84%A0_%EB%A7%88%EB%8B%98_%EC%97%94%EC%A7%84%EC%9C%BC%EB%A1%9C_%EC%88%98%ED%95%99_%EB%8F%99%EC%98%81%EC%83%81_%EB%A7%8C%EB%93%A4%EA%B8%B0___%EB%B0%95%ED%9D%AC%EC%A7%84.ipynb\" target=\"_parent\"><img src=\"https://colab.research.google.com/assets/colab-badge.svg\" alt=\"Open In Colab\"/></a>"
      ]
    },
    {
      "cell_type": "code",
      "execution_count": null,
      "metadata": {
        "id": "n_OwIuwOBGs7"
      },
      "outputs": [],
      "source": [
        ""
      ]
    }
  ]
}